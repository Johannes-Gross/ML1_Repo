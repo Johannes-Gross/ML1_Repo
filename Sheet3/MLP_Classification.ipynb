{
 "metadata": {
  "language_info": {
   "codemirror_mode": {
    "name": "ipython",
    "version": 3
   },
   "file_extension": ".py",
   "mimetype": "text/x-python",
   "name": "python",
   "nbconvert_exporter": "python",
   "pygments_lexer": "ipython3",
   "version": "3.8.3-final"
  },
  "orig_nbformat": 2,
  "kernelspec": {
   "name": "python3",
   "display_name": "Python 3",
   "language": "python"
  }
 },
 "nbformat": 4,
 "nbformat_minor": 2,
 "cells": [
  {
   "cell_type": "code",
   "execution_count": null,
   "metadata": {},
   "outputs": [],
   "source": [
    "import numpy as np \n",
    "import pandas as pd \n",
    "from sklearn.model_selection import train_test_split\n",
    "from sklearn.preprocessing import StandardScaler\n",
    "from sklearn import metrics\n",
    "from sklearn.pipeline import make_pipeline\n",
    "from sklearn.neural_network import MLPClassifier\n",
    "from sklearn.svm import SVC\n",
    "from sklearn.ensemble import RandomForestClassifier\n",
    "import matplotlib.pyplot as plt\n",
    "import glob\n",
    "import time"
   ]
  },
  {
   "cell_type": "code",
   "execution_count": null,
   "metadata": {},
   "outputs": [],
   "source": [
    "#Get and prepare all the data\n",
    "aggr_files = []\n",
    "normal_files = []\n",
    "for i in range(1,5):   \n",
    "    path_aggr = r'C:/Users/johan/ML1/ML1_Repo/Sheet2/EMG Physical Action Data Set/sub'+str(i)+'/Aggressive/txt'                    \n",
    "    aggr_files.extend(glob.glob(os.path.join(path_aggr, \"*.txt\")))\n",
    "    path_normal = r'C:/Users/johan/ML1/ML1_Repo/Sheet2/EMG Physical Action Data Set/sub'+str(i)+'/Normal/txt'   \n",
    "    normal_files.extend(glob.glob(os.path.join(path_normal, \"*.txt\")))\n",
    "\n",
    "df_from_each_aggr_file = (pd.read_table(f, names=list(range(8))) for f in aggr_files)\n",
    "aggr_df = pd.concat(df_from_each_aggr_file, ignore_index=True)\n",
    "\n",
    "df_from_each_normal_file = (pd.read_table(f, names=list(range(8))) for f in normal_files)\n",
    "normal_df = pd.concat(df_from_each_normal_file, ignore_index=True)\n",
    "\n",
    "aggr_df.insert(8, 'label', 0)\n",
    "normal_df.insert(8, 'label', 1)\n",
    "\n",
    "data = pd.concat([aggr_df,normal_df], ignore_index=True)\n",
    "data = data.dropna()\n",
    "\n",
    "feature_list = list(range(8))"
   ]
  },
  {
   "cell_type": "code",
   "execution_count": null,
   "metadata": {},
   "outputs": [],
   "source": [
    "#Functions which calculates and prints different performance metrics\n",
    "def MetricsOfReliability(clf, data_test_df, data_label_df, clf_predict_df):\n",
    "\n",
    "    tn, fp, fn, tp = metrics.confusion_matrix(data_label_df, clf_predict_df).ravel()\n",
    "\n",
    "    accuracy = (tp + tn)/(tp + fp + tn + fn)\n",
    "    print('accuracy = ' + str(accuracy))\n",
    "\n",
    "    # sensitivity = tn/(tn + fp)\n",
    "    # print('sensitivity = ' + str(sensitivity))\n",
    "\n",
    "    # specificity = tp/(tp + fn)\n",
    "    # print('specificity = ' + str(specificity))\n",
    "\n",
    "    # metrics.plot_roc_curve(clf, data_test_df, data_label_df)"
   ]
  },
  {
   "cell_type": "code",
   "execution_count": null,
   "metadata": {},
   "outputs": [],
   "source": [
    "#perform train-test-split\n",
    "train, test = train_test_split(data, test_size=0.01, train_size=0.04)"
   ]
  },
  {
   "cell_type": "code",
   "execution_count": null,
   "metadata": {},
   "outputs": [],
   "source": [
    "#Testing different architectures of the MLP and measuring accuracy and compute time (Without standardizing the data)\n",
    "hidden_layers = [(50), (100), (200), (500), (50,50), (100,100), (200,200), (50,50,50), (100,100,100), (200,200,200)]\n",
    "for hidden_layers in hidden_layers:\n",
    "    tstart = time.time()\n",
    "    mlp = MLPClassifier(activation='logistic', hidden_layer_sizes=hidden_layers, max_iter=800, random_state=1)\n",
    "    mlp.fit(train[feature_list], train['label'])\n",
    "    mlp_predict = mlp.predict(test[feature_list])\n",
    "    tend = time.time()\n",
    "\n",
    "    print('\\n' + str(hidden_layers) + ':')\n",
    "    MetricsOfReliability(mlp, test[feature_list], test['label'], mlp_predict)\n",
    "    print('time: ' + str(tend - tstart))"
   ]
  },
  {
   "cell_type": "code",
   "execution_count": null,
   "metadata": {},
   "outputs": [],
   "source": [
    "#Testing different architectures of the MLP and measuring accuracy and compute time (With standardizing the data)\n",
    "scaler = StandardScaler()\n",
    "train_tf = scaler.fit_transform(train[feature_list])\n",
    "test_tf = scaler.transform(test[feature_list])\n",
    "\n",
    "hidden_layers = [(50), (100), (200), (500), (50,50), (100,100), (200,200), (50,50,50), (100,100,100), (200,200,200)]\n",
    "for hidden_layers in hidden_layers:\n",
    "    tstart = time.time()\n",
    "    mlp = MLPClassifier(activation='logistic', hidden_layer_sizes=hidden_layers, max_iter=800, random_state=1)\n",
    "    mlp.fit(train_tf, train['label'])\n",
    "    mlp_predict = mlp.predict(test_tf)\n",
    "    tend = time.time()\n",
    "\n",
    "    print('\\n' + str(hidden_layers) + ':')\n",
    "    MetricsOfReliability(mlp, test_tf, test['label'], mlp_predict)\n",
    "    print('time: ' + str(tend - tstart))"
   ]
  },
  {
   "cell_type": "code",
   "execution_count": null,
   "metadata": {},
   "outputs": [],
   "source": [
    "#Measuring accuracy and compute time for the SVM with rbf kernel\n",
    "tstart = time.time()\n",
    "svm_rbf = make_pipeline(StandardScaler(), SVC(kernel='rbf'))\n",
    "svm_rbf.fit(train[feature_list], train['label'])\n",
    "svm_predict = svm_rbf.predict(test[feature_list])\n",
    "tend = time.time()\n",
    "\n",
    "MetricsOfReliability(svm_rbf, test[feature_list], test['label'], svm_predict)\n",
    "print('time: ' + str(tend - tstart))"
   ]
  },
  {
   "cell_type": "code",
   "execution_count": null,
   "metadata": {},
   "outputs": [],
   "source": [
    "#Measuring accuracy and compute time for the RF\n",
    "tstart = time.time()\n",
    "rf = RandomForestClassifier()\n",
    "rf.fit(train[feature_list], train['label'])\n",
    "rf_predict = rf.predict(test[feature_list])\n",
    "tend = time.time()\n",
    "\n",
    "MetricsOfReliability(rf, test[feature_list], test['label'], rf_predict)\n",
    "print('time: ' + str(tend - tstart))"
   ]
  }
 ]
}