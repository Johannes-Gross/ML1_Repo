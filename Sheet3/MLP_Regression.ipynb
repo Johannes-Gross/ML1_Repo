{
 "metadata": {
  "language_info": {
   "codemirror_mode": {
    "name": "ipython",
    "version": 3
   },
   "file_extension": ".py",
   "mimetype": "text/x-python",
   "name": "python",
   "nbconvert_exporter": "python",
   "pygments_lexer": "ipython3",
   "version": "3.8.3-final"
  },
  "orig_nbformat": 2,
  "kernelspec": {
   "name": "python3",
   "display_name": "Python 3",
   "language": "python"
  }
 },
 "nbformat": 4,
 "nbformat_minor": 2,
 "cells": [
  {
   "cell_type": "code",
   "execution_count": null,
   "metadata": {},
   "outputs": [],
   "source": [
    "import numpy as np \n",
    "import pandas as pd \n",
    "from sklearn.model_selection import train_test_split\n",
    "from sklearn.neural_network import MLPRegressor\n",
    "import matplotlib.pyplot as plt"
   ]
  },
  {
   "cell_type": "code",
   "execution_count": null,
   "metadata": {},
   "outputs": [],
   "source": [
    "#Save the training data in the nparray data\n",
    "data = np.loadtxt('data_function_approximation.txt')"
   ]
  },
  {
   "cell_type": "code",
   "execution_count": null,
   "metadata": {},
   "outputs": [],
   "source": [
    "#Performs MLP regression for a given activation and architecture and plots the results into an coordinate system\n",
    "def plot_mlp_regr(x, y, ax, activation, hidden_layer):\n",
    "    #Initialize the model, perform the fit and make predictions\n",
    "    reg = MLPRegressor(solver='lbfgs', activation=activation, hidden_layer_sizes=hidden_layer, random_state=1)\n",
    "    reg.fit(x.reshape(-1,1), y)\n",
    "    y_pred = reg.predict(x.reshape(-1,1))\n",
    "\n",
    "    #Plot the exact function and the estimate\n",
    "    ax.set_title('architecture = ' + str(hidden_layer))\n",
    "    ax.plot(x, y, label='exact')\n",
    "    ax.plot(x, y_pred, label='appr')\n",
    "    ax.legend()"
   ]
  },
  {
   "cell_type": "code",
   "execution_count": null,
   "metadata": {},
   "outputs": [],
   "source": [
    "#Test MLP for different architectures and for different activation functions\n",
    "hidden_layer = [[(2), (2,1)], [(2,2), (3,2)]]\n",
    "activation = ['tanh', 'logistic']\n",
    "\n",
    "for activation in activation:\n",
    "    fig, ax = plt.subplots(2,2)\n",
    "    plt.subplots_adjust(hspace=0.5, wspace=0.5)\n",
    "    print('\\n' + str(activation) + ':')\n",
    "    for i in range(2):\n",
    "        for j in range(2):\n",
    "            plot_mlp_regr(data[:,0], data[:,1], ax[i,j], activation, hidden_layer[i][j])"
   ]
  }
 ]
}