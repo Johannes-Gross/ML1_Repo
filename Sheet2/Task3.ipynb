{
 "metadata": {
  "language_info": {
   "codemirror_mode": {
    "name": "ipython",
    "version": 3
   },
   "file_extension": ".py",
   "mimetype": "text/x-python",
   "name": "python",
   "nbconvert_exporter": "python",
   "pygments_lexer": "ipython3",
   "version": "3.7.9-final"
  },
  "orig_nbformat": 2,
  "kernelspec": {
   "name": "python3",
   "display_name": "Python 3",
   "language": "python"
  }
 },
 "nbformat": 4,
 "nbformat_minor": 2,
 "cells": [
  {
   "cell_type": "code",
   "execution_count": null,
   "metadata": {},
   "outputs": [],
   "source": [
    "import numpy as np \n",
    "import pandas as pd \n",
    "from sklearn.model_selection import train_test_split\n",
    "from sklearn.svm import SVC\n",
    "from sklearn.ensemble import RandomForestClassifier\n",
    "from sklearn.pipeline import make_pipeline\n",
    "from sklearn.preprocessing import StandardScaler\n",
    "from sklearn import metrics\n",
    "import matplotlib.pyplot as plt"
   ]
  },
  {
   "cell_type": "code",
   "execution_count": null,
   "metadata": {},
   "outputs": [],
   "source": [
    "def MetricsOfReliability(clf, data_test_df, data_label_df, clf_predict_df):\n",
    "    accuracy = metrics.accuracy_score(data_label_df, clf_predict_df)\n",
    "    print('accuracy = ' + str(accuracy))\n",
    "\n",
    "    confusion_matrix = metrics.confusion_matrix(data_label_df, clf_predict_df)\n",
    "    tp = confusion_matrix[0,0]\n",
    "    fp = confusion_matrix[1,0]\n",
    "    fn = confusion_matrix[0,1]\n",
    "    tn = confusion_matrix[1,1]    \n",
    "    metrics.plot_confusion_matrix(clf, data_test_df, data_label_df)\n",
    "    plt.title('confusion matrix')\n",
    "\n",
    "    sensitivity = tp/(tp + fn)\n",
    "    print('sensitivity = ' + str(sensitivity))\n",
    "\n",
    "    specificity = tn/(tn + fp)\n",
    "    print('specificity = ' + str(specificity))\n",
    "\n",
    "    metrics.plot_roc_curve(clf, data_test_df, data_label_df)"
   ]
  },
  {
   "cell_type": "code",
   "execution_count": null,
   "metadata": {},
   "outputs": [],
   "source": [
    "#Get and prepare the data\n",
    "data_df = pd.read_csv('C:/Users/johan/ML1/p53_old_2010/K8.data', names=list(range(5409)), na_values='?')\n",
    "data_df.drop(labels=5408, axis='columns', inplace=True)\n",
    "data_df = data_df.dropna()\n",
    "feature_list = list(range(5407))\n",
    "label = 5407"
   ]
  },
  {
   "cell_type": "code",
   "execution_count": null,
   "metadata": {},
   "outputs": [],
   "source": [
    "#perform train-test-split\n",
    "train_df, test_df = train_test_split(data_df, test_size=0.2, train_size=0.8)\n"
   ]
  },
  {
   "source": [
    "<h2>Support Vector Machine</h2>"
   ],
   "cell_type": "markdown",
   "metadata": {}
  },
  {
   "cell_type": "code",
   "execution_count": null,
   "metadata": {},
   "outputs": [],
   "source": [
    "#rbf SVM fit, predict\n",
    "svm_rbf = make_pipeline(StandardScaler(), SVC(kernel='rbf'))\n",
    "svm_rbf.fit(train_df[feature_list], train_df[label])\n",
    "svm_predict_df = svm_rbf.predict(test_df[feature_list])\n",
    "MetricsOfReliability(svm_rbf, test_df[feature_list], test_df[label], svm_predict_df)"
   ]
  },
  {
   "cell_type": "code",
   "execution_count": null,
   "metadata": {},
   "outputs": [],
   "source": [
    "#linear SVM fit, predict\n",
    "svm_rbf = make_pipeline(StandardScaler(), SVC(kernel='linear'))\n",
    "svm_rbf.fit(train_df[feature_list], train_df[label])\n",
    "svm_predict_df = svm_rbf.predict(test_df[feature_list])\n",
    "MetricsOfReliability(svm_rbf, test_df[feature_list], test_df[label], svm_predict_df)"
   ]
  },
  {
   "source": [
    "<h2>Random Forest</h2>"
   ],
   "cell_type": "markdown",
   "metadata": {}
  },
  {
   "cell_type": "code",
   "execution_count": null,
   "metadata": {},
   "outputs": [],
   "source": [
    "#RF fit and predict\n",
    "rf = RandomForestClassifier(oob_score=True)\n",
    "rf.fit(train_df[feature_list], train_df[label])\n",
    "rf_predict_test_df = rf.predict(test_df[feature_list])\n",
    "MetricsOfReliability(rf, test_df[feature_list], test_df[label], rf_predict_test_df)\n",
    "print('out-of-bag-error = ' + str(rf.oob_score_))"
   ]
  },
  {
   "cell_type": "code",
   "execution_count": null,
   "metadata": {},
   "outputs": [],
   "source": [
    "#out-of-bag-error and accuracy for increasing number of trees\n",
    "rf = RandomForestClassifier(oob_score=True)\n",
    "test_error = []\n",
    "oob_error = []\n",
    "for n in [10,50,70]:\n",
    "    rf.set_params(max_features=n)\n",
    "    rf.fit(train_df[feature_list], train_df[label])\n",
    "    test_error.append(rf.score(test_df[feature_list], test_df[label]))\n",
    "    oob_error.append(rf.oob_score_)\n",
    "    print(n)\n",
    "\n",
    "print(test_error)\n",
    "print(oob_error)"
   ]
  }
 ]
}